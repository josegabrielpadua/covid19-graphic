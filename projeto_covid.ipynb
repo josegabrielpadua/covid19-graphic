{
 "cells": [
  {
   "cell_type": "markdown",
   "id": "b8a858a4-34e8-453c-8695-78d7bb87441f",
   "metadata": {},
   "source": [
    "# Projeto COVID-19\n",
    "\n",
    "## J.G"
   ]
  },
  {
   "cell_type": "code",
   "execution_count": 1,
   "id": "44b5e2c5-eb27-4fa2-81fe-7d5cd234aae9",
   "metadata": {},
   "outputs": [
    {
     "ename": "ModuleNotFoundError",
     "evalue": "No module named 'fbprophet'",
     "output_type": "error",
     "traceback": [
      "\u001b[1;31m---------------------------------------------------------------------------\u001b[0m",
      "\u001b[1;31mModuleNotFoundError\u001b[0m                       Traceback (most recent call last)",
      "\u001b[1;32m~\\AppData\\Local\\Temp\\ipykernel_2868\\4087889651.py\u001b[0m in \u001b[0;36m<module>\u001b[1;34m\u001b[0m\n\u001b[0;32m     10\u001b[0m \u001b[1;32mimport\u001b[0m \u001b[0mmatplotlib\u001b[0m\u001b[1;33m.\u001b[0m\u001b[0mpyplot\u001b[0m \u001b[1;32mas\u001b[0m \u001b[0mplt\u001b[0m\u001b[1;33m\u001b[0m\u001b[1;33m\u001b[0m\u001b[0m\n\u001b[0;32m     11\u001b[0m \u001b[1;32mfrom\u001b[0m \u001b[0mpmdarima\u001b[0m\u001b[1;33m.\u001b[0m\u001b[0marima\u001b[0m \u001b[1;32mimport\u001b[0m \u001b[0mauto_arima\u001b[0m\u001b[1;33m\u001b[0m\u001b[1;33m\u001b[0m\u001b[0m\n\u001b[1;32m---> 12\u001b[1;33m \u001b[1;32mfrom\u001b[0m \u001b[0mfbprophet\u001b[0m \u001b[1;32mimport\u001b[0m \u001b[0mprophet\u001b[0m\u001b[1;33m\u001b[0m\u001b[1;33m\u001b[0m\u001b[0m\n\u001b[0m",
      "\u001b[1;31mModuleNotFoundError\u001b[0m: No module named 'fbprophet'"
     ]
    }
   ],
   "source": [
    "# importando bibliotecas\n",
    "\n",
    "import pandas as pd\n",
    "import numpy as np\n",
    "from datetime import datetime\n",
    "import plotly.express as px\n",
    "import plotly.graph_objects as go\n",
    "import re\n",
    "from statsmodels.tsa.seasonal import seasonal_decompose\n",
    "import matplotlib.pyplot as plt\n",
    "from pmdarima.arima import auto_arima\n",
    "from fbprophet import prophet"
   ]
  },
  {
   "cell_type": "code",
   "execution_count": null,
   "id": "4412c82e-61b6-4607-95fd-4d671cd50c67",
   "metadata": {},
   "outputs": [],
   "source": [
    "# importando dados para o projeto\n",
    "\n",
    "url = 'https://github.com/neylsoncrepalde/projeto_eda_covid/blob/master/covid_19_data.csv?raw=true'"
   ]
  },
  {
   "cell_type": "code",
   "execution_count": null,
   "id": "ac595e93-863d-49c8-9960-07302c322fb4",
   "metadata": {},
   "outputs": [],
   "source": [
    "df = pd.read_csv(url, parse_dates=['ObservationDate', 'Last Update'])\n",
    "df"
   ]
  },
  {
   "cell_type": "code",
   "execution_count": null,
   "id": "bbd45325-4ea5-4bae-9cc0-981cc1fffd9a",
   "metadata": {},
   "outputs": [],
   "source": [
    "# Função para arrumar as colunas\n",
    "\n",
    "def corrige_colunas(col_name):\n",
    "    return re.sub(r\"[/| ]\", \"\", col_name).lower()"
   ]
  },
  {
   "cell_type": "code",
   "execution_count": null,
   "id": "2911c54a-9b89-4e24-9b83-66f66aa2af62",
   "metadata": {},
   "outputs": [],
   "source": [
    "# Colunas arrumadas\n",
    "\n",
    "df.columns = [corrige_colunas(col) for col in df.columns]\n",
    "df"
   ]
  },
  {
   "cell_type": "markdown",
   "id": "56779cbf-9e9f-4a0d-a030-461d977a3e32",
   "metadata": {},
   "source": [
    "# Brasil\n",
    "\n",
    "Selecionando dados do Brasil para investigar."
   ]
  },
  {
   "cell_type": "code",
   "execution_count": null,
   "id": "c1e174d4-08aa-4d00-8b9f-695c86d4ffc0",
   "metadata": {},
   "outputs": [],
   "source": [
    "df.loc[df['countryregion'] == 'Brazil']"
   ]
  },
  {
   "cell_type": "code",
   "execution_count": null,
   "id": "88ad4527-524a-4b5e-9044-ff1a4b497645",
   "metadata": {},
   "outputs": [],
   "source": [
    "df_brasil = df.loc[\n",
    "    (df.confirmed > 0) &\n",
    "    (df.countryregion == 'Brazil')\n",
    "]\n",
    "\n",
    "df_brasil\n"
   ]
  },
  {
   "cell_type": "markdown",
   "id": "71814674-80a5-49f8-bbe9-8a18c706c4ae",
   "metadata": {},
   "source": [
    "# Casos confirmados\n"
   ]
  },
  {
   "cell_type": "code",
   "execution_count": null,
   "id": "4af21e99-9934-4e10-97e9-60fecfb1d792",
   "metadata": {},
   "outputs": [],
   "source": [
    "# Gráfico da evolução de casos confirmados\n",
    "\n",
    "px.line(df_brasil, x='observationdate', y='confirmed', title='Casos confirmados no Brasil')"
   ]
  },
  {
   "cell_type": "markdown",
   "id": "1af3a4e6-e857-4f1b-b7e6-b727a8cce785",
   "metadata": {},
   "source": [
    "# Novos casos por dia\n"
   ]
  },
  {
   "cell_type": "code",
   "execution_count": null,
   "id": "d0552128-8f8a-4010-903a-c33ff64d2085",
   "metadata": {},
   "outputs": [],
   "source": [
    "# Técnica de programação funcional\n",
    "\n",
    "df_brasil['novoscasos'] = list(map(\n",
    "    lambda x: 0 if (x==0) else df_brasil['confirmed'].iloc[x] - df_brasil['confirmed'].iloc[x-1],\n",
    "    np.arange(df_brasil.shape[0])\n",
    "))"
   ]
  },
  {
   "cell_type": "code",
   "execution_count": null,
   "id": "124e0713-1113-4396-9a62-cb8dbdb3a427",
   "metadata": {},
   "outputs": [],
   "source": [
    "df_brasil"
   ]
  },
  {
   "cell_type": "code",
   "execution_count": null,
   "id": "731ba713-69a3-4d01-8be9-05c57271d804",
   "metadata": {},
   "outputs": [],
   "source": [
    "# Visualizando\n",
    "\n",
    "px.line(df_brasil, 'observationdate', 'novoscasos', title='Novos casos por dia no Brasil')"
   ]
  },
  {
   "cell_type": "markdown",
   "id": "da04bb74-ab7f-4138-82b6-a16f7dc921c3",
   "metadata": {},
   "source": [
    "# Mortes\n"
   ]
  },
  {
   "cell_type": "code",
   "execution_count": null,
   "id": "3d159031-c656-40a4-b904-e88333bdd3b9",
   "metadata": {},
   "outputs": [],
   "source": [
    "fig = go.Figure()\n",
    "\n",
    "fig.add_trace(\n",
    "    go.Scatter(x=df_brasil.observationdate, y=df_brasil.deaths, name='Mortes',\n",
    "              mode='lines+markers', line={'color':'darkred'})\n",
    ")\n",
    "\n",
    "# Layout\n",
    "\n",
    "fig.update_layout(title='Mortes por covid-19 no Brasil')\n",
    "fig.show()"
   ]
  },
  {
   "cell_type": "markdown",
   "id": "d5a72605-40eb-48e4-81cd-e97b2286231e",
   "metadata": {},
   "source": [
    "# Taxa de crescimento"
   ]
  },
  {
   "cell_type": "code",
   "execution_count": null,
   "id": "78ff8577-8e97-46a7-861d-87aca622673a",
   "metadata": {},
   "outputs": [],
   "source": [
    "def taxa_crescimento(data, var, data_inicio=None, data_fim=None):\n",
    "    #Se data início for None, define como a primeira data disponível\n",
    "    \n",
    "    if data_inicio == None:\n",
    "        data_inicio = data.observationdate.loc[data[var] > 0].min()\n",
    "    else:\n",
    "        data_inicio = pd.to_datetime(data_inicio)\n",
    "        \n",
    "    if data_fim == None:\n",
    "        data_fim = data.observationdate.iloc[-1]\n",
    "    else:\n",
    "        data_fim = pd.to_datetime(data_fim)\n",
    "        \n",
    "    # Define os valores do presente e passado\n",
    "    \n",
    "    passado = data.loc[data.observationdate == data_inicio, var].values[0]\n",
    "    presente = data.loc[data.observationdate == data_fim, var].values[0]\n",
    "    \n",
    "    # Define o número de pontos no tempo que vamos analisar\n",
    "    \n",
    "    n = (data_fim - data_inicio).days\n",
    "    \n",
    "    # Calcular a taxa\n",
    "    \n",
    "    taxa = (presente/passado)**(1/n) - 1\n",
    "    \n",
    "    return taxa*100"
   ]
  },
  {
   "cell_type": "code",
   "execution_count": null,
   "id": "efc001a7-6085-4a88-b010-a306c706b7b9",
   "metadata": {},
   "outputs": [],
   "source": [
    "# Taxa de crescimento do covid-19 médio no Brasil\n",
    "\n",
    "taxa_crescimento(df_brasil, 'confirmed')"
   ]
  },
  {
   "cell_type": "code",
   "execution_count": null,
   "id": "9f0d87b5-7a16-44bd-94db-960b92d6da3e",
   "metadata": {},
   "outputs": [],
   "source": [
    "def taxa_crescimento_diaria(data, var, data_inicio=None):\n",
    "\n",
    "    #Se data início for None, define como a primeira data disponível\n",
    "    \n",
    "    if data_inicio == None:\n",
    "        data_inicio = data.observationdate.loc[data[var] > 0].min()\n",
    "    else:\n",
    "        data_inicio = pd.to_datetime(data_inicio)\n",
    "    \n",
    "    data_fim = data.observationdate.max()\n",
    "    n = (data_fim - data_inicio).days\n",
    "    \n",
    "    # Taxa calculada de um dia para o outro\n",
    "    \n",
    "    taxas = list(map(\n",
    "        lambda x: (data[var].iloc[x] - data[var].iloc[x-1]) / data[var].iloc[x-1],\n",
    "        range(1, n+1)\n",
    "    ))\n",
    "    \n",
    "    return np.array(taxas) * 100"
   ]
  },
  {
   "cell_type": "code",
   "execution_count": null,
   "id": "25478aae-12d5-41f2-9cb2-e13b70373dbc",
   "metadata": {},
   "outputs": [],
   "source": [
    "tx_dia = taxa_crescimento_diaria(df_brasil, 'confirmed')\n"
   ]
  },
  {
   "cell_type": "code",
   "execution_count": null,
   "id": "f1de59d3-1023-41ed-aff9-5975b1db03cf",
   "metadata": {},
   "outputs": [],
   "source": [
    "tx_dia"
   ]
  },
  {
   "cell_type": "code",
   "execution_count": null,
   "id": "c57c0420-e432-41ce-9abd-86569dbb3c30",
   "metadata": {},
   "outputs": [],
   "source": [
    "primeiro_dia = df_brasil.observationdate.loc[df_brasil.confirmed > 0].min()\n",
    "\n",
    "px.line(x=pd.date_range(primeiro_dia, df_brasil.observationdate.max())[1:],\n",
    "       y = tx_dia, title='Taxa de crescimento de casos confirmados no Brasil')"
   ]
  },
  {
   "cell_type": "markdown",
   "id": "b07d55ec-e426-4214-9dce-d5c56cbac9b7",
   "metadata": {},
   "source": [
    "# Predições\n"
   ]
  },
  {
   "cell_type": "code",
   "execution_count": null,
   "id": "267b3dd1-de29-4e8b-bc7e-a41fdcf00e7e",
   "metadata": {},
   "outputs": [],
   "source": [
    "confirmados = df_brasil.confirmed\n",
    "confirmados.index = df_brasil.observationdate\n",
    "confirmados"
   ]
  },
  {
   "cell_type": "code",
   "execution_count": null,
   "id": "0cdd36de-95bb-4041-8fed-8154633b525e",
   "metadata": {},
   "outputs": [],
   "source": [
    "res = seasonal_decompose(confirmados)"
   ]
  },
  {
   "cell_type": "code",
   "execution_count": null,
   "id": "6e7901b5-ee0f-4cc3-9623-1da624e34efb",
   "metadata": {},
   "outputs": [],
   "source": [
    "fig, (ax1, ax2, ax3, ax4) = plt.subplots(4, 1, figsize=(10, 8))\n",
    "\n",
    "ax1.plot(res.observed)\n",
    "ax2.plot(res.trend)\n",
    "ax3.plot(res.seasonal)\n",
    "ax4.plot(confirmados.index, res.resid)\n",
    "ax4.axhline(0, linestyle='dashed', c='black')\n",
    "plt.show()"
   ]
  },
  {
   "cell_type": "markdown",
   "id": "f4f022bd-9a99-4486-8519-aa473c5a3ea1",
   "metadata": {},
   "source": [
    "# Arima\n"
   ]
  },
  {
   "cell_type": "code",
   "execution_count": null,
   "id": "9a0e3b0a-1ce2-4338-ae6e-23360c17be18",
   "metadata": {},
   "outputs": [],
   "source": [
    "modelo = auto_arima(confirmados)"
   ]
  },
  {
   "cell_type": "code",
   "execution_count": null,
   "id": "97f1dc4a-76da-4dc6-92a4-9beae2e0d192",
   "metadata": {},
   "outputs": [],
   "source": [
    "fig = go.Figure(go.Scatter(\n",
    "    x=confirmados.index, y=confirmados, name='Observados'\n",
    "))\n",
    "\n",
    "fig.add_trace(go.Scatter(\n",
    "    x=confirmados.index, y=modelo.predict_in_sample(), name='Predict'\n",
    "))\n",
    "\n",
    "fig.add_trace(go.Scatter(\n",
    "    x=pd.date_range('2020-05-20', '2020-06-20'), y=modelo.predict(31), name='Forecast'\n",
    "))\n",
    "\n",
    "fig.update_layout(title='Previsão de casos confirmados no Brasil nos próximos 30 dias')\n",
    "\n"
   ]
  },
  {
   "cell_type": "markdown",
   "id": "c0f533d0-a577-4cc9-a343-9caa83098394",
   "metadata": {},
   "source": [
    "# Modelo de crescimento\n"
   ]
  },
  {
   "cell_type": "code",
   "execution_count": null,
   "id": "618f380b-fff0-4240-864e-85c5ee65c4f8",
   "metadata": {},
   "outputs": [],
   "source": [
    "# Preprocessamento\n",
    "\n",
    "train = confirmados.reset_index()[:-5]\n",
    "test = confirmados.reset_index()[-5:]\n",
    "\n",
    "# Renomeando colunas\n",
    "\n",
    "train.rename(columns={'observationdate':'ds', 'confirmed': 'y'}, inplace=True)\n",
    "test.rename(columns={'observationdate':'ds', 'confirmed': 'y'}, inplace=True)\n",
    "\n",
    "#Definir o modelo de crescimento\n",
    "\n",
    "profeta = Prophet(growth='logistic', changepoints=['2020-03-21', '2020-03-30', '2020-04-25',\n",
    "                                                   '2020-05-03', '2020-05-10'])\n",
    "\n",
    "pop = 211463256\n",
    "train['cap'] = pop\n",
    "\n",
    "# Treina o modelo\n",
    "profeta.fit(train)\n",
    "\n",
    "# Construir previsões para o futuro\n",
    "\n",
    "future_dates = profeta.make_future_dataframe(periods=200)\n",
    "future_dates['cap'] = pop\n",
    "forecast = profeta.predict(future_dates)\n"
   ]
  },
  {
   "cell_type": "code",
   "execution_count": null,
   "id": "59a2e30d-d4e4-4ac8-90cd-b639609baf2b",
   "metadata": {},
   "outputs": [],
   "source": [
    "fig = go.Figure()\n",
    "\n",
    "fig.add_trace(go.Scatter(x=forecast.ds, y=forecast.yhat, name='Predição'))\n",
    "fig.add_trace(go.Scatter(x=train.ds, y=train.y, name='Observados - Treino'))\n",
    "fig.update_layout(title='Predições de casos confirmados no Brasil')\n",
    "fig.show()"
   ]
  },
  {
   "cell_type": "code",
   "execution_count": null,
   "id": "cdde4317-afc7-44d5-b6f6-8ce023d47124",
   "metadata": {},
   "outputs": [],
   "source": []
  }
 ],
 "metadata": {
  "kernelspec": {
   "display_name": "Python 3 (ipykernel)",
   "language": "python",
   "name": "python3"
  },
  "language_info": {
   "codemirror_mode": {
    "name": "ipython",
    "version": 3
   },
   "file_extension": ".py",
   "mimetype": "text/x-python",
   "name": "python",
   "nbconvert_exporter": "python",
   "pygments_lexer": "ipython3",
   "version": "3.9.13"
  }
 },
 "nbformat": 4,
 "nbformat_minor": 5
}
